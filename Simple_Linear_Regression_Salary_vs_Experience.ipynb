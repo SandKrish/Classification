{
  "cells": [
    {
      "cell_type": "code",
      "execution_count": null,
      "metadata": {
        "execution": {
          "iopub.execute_input": "2021-04-27T06:20:46.233130Z",
          "iopub.status.busy": "2021-04-27T06:20:46.232442Z",
          "iopub.status.idle": "2021-04-27T06:20:47.220006Z",
          "shell.execute_reply": "2021-04-27T06:20:47.219434Z"
        },
        "papermill": {
          "duration": 1.021083,
          "end_time": "2021-04-27T06:20:47.220178",
          "exception": false,
          "start_time": "2021-04-27T06:20:46.199095",
          "status": "completed"
        },
        "tags": [],
        "id": "U51IdZV_e08G"
      },
      "outputs": [],
      "source": [
        "#Importing libraries\n",
        "import numpy as np\n",
        "import matplotlib.pyplot as plt\n",
        "import pandas as pd\n",
        "import seaborn as sns\n",
        "%matplotlib inline"
      ]
    },
    {
      "cell_type": "code",
      "execution_count": null,
      "metadata": {
        "execution": {
          "iopub.execute_input": "2021-04-27T06:20:47.337371Z",
          "iopub.status.busy": "2021-04-27T06:20:47.336503Z",
          "iopub.status.idle": "2021-04-27T06:20:47.353439Z",
          "shell.execute_reply": "2021-04-27T06:20:47.352710Z"
        },
        "papermill": {
          "duration": 0.050367,
          "end_time": "2021-04-27T06:20:47.353629",
          "exception": false,
          "start_time": "2021-04-27T06:20:47.303262",
          "status": "completed"
        },
        "tags": [],
        "id": "qM9vc6WWe08H"
      },
      "outputs": [],
      "source": [
        "#Importing dataset\n",
        "dataset = pd.read_csv('../salary-data-simple-linear-regression/Salary_Data.csv')"
      ]
    },
    {
      "cell_type": "markdown",
      "metadata": {
        "papermill": {
          "duration": 0.026926,
          "end_time": "2021-04-27T06:20:47.408793",
          "exception": false,
          "start_time": "2021-04-27T06:20:47.381867",
          "status": "completed"
        },
        "tags": [],
        "id": "ImMHKz81e08I"
      },
      "source": [
        "To see the first five rows of the dataset we can use dataset.head()."
      ]
    },
    {
      "cell_type": "code",
      "execution_count": null,
      "metadata": {
        "execution": {
          "iopub.execute_input": "2021-04-27T06:20:47.479303Z",
          "iopub.status.busy": "2021-04-27T06:20:47.477820Z",
          "iopub.status.idle": "2021-04-27T06:20:47.500197Z",
          "shell.execute_reply": "2021-04-27T06:20:47.499522Z"
        },
        "papermill": {
          "duration": 0.063949,
          "end_time": "2021-04-27T06:20:47.500370",
          "exception": false,
          "start_time": "2021-04-27T06:20:47.436421",
          "status": "completed"
        },
        "tags": [],
        "id": "Uh9scrg5e08J",
        "outputId": "24b83bed-dde6-4722-cb5e-10bfb3b14621"
      },
      "outputs": [
        {
          "data": {
            "text/html": [
              "<div>\n",
              "<style scoped>\n",
              "    .dataframe tbody tr th:only-of-type {\n",
              "        vertical-align: middle;\n",
              "    }\n",
              "\n",
              "    .dataframe tbody tr th {\n",
              "        vertical-align: top;\n",
              "    }\n",
              "\n",
              "    .dataframe thead th {\n",
              "        text-align: right;\n",
              "    }\n",
              "</style>\n",
              "<table border=\"1\" class=\"dataframe\">\n",
              "  <thead>\n",
              "    <tr style=\"text-align: right;\">\n",
              "      <th></th>\n",
              "      <th>YearsExperience</th>\n",
              "      <th>Salary</th>\n",
              "    </tr>\n",
              "  </thead>\n",
              "  <tbody>\n",
              "    <tr>\n",
              "      <th>0</th>\n",
              "      <td>1.1</td>\n",
              "      <td>39343.0</td>\n",
              "    </tr>\n",
              "    <tr>\n",
              "      <th>1</th>\n",
              "      <td>1.3</td>\n",
              "      <td>46205.0</td>\n",
              "    </tr>\n",
              "    <tr>\n",
              "      <th>2</th>\n",
              "      <td>1.5</td>\n",
              "      <td>37731.0</td>\n",
              "    </tr>\n",
              "    <tr>\n",
              "      <th>3</th>\n",
              "      <td>2.0</td>\n",
              "      <td>43525.0</td>\n",
              "    </tr>\n",
              "    <tr>\n",
              "      <th>4</th>\n",
              "      <td>2.2</td>\n",
              "      <td>39891.0</td>\n",
              "    </tr>\n",
              "  </tbody>\n",
              "</table>\n",
              "</div>"
            ],
            "text/plain": [
              "   YearsExperience   Salary\n",
              "0              1.1  39343.0\n",
              "1              1.3  46205.0\n",
              "2              1.5  37731.0\n",
              "3              2.0  43525.0\n",
              "4              2.2  39891.0"
            ]
          },
          "execution_count": 4,
          "metadata": {},
          "output_type": "execute_result"
        }
      ],
      "source": [
        "#To see first 5 rows of the dataset\n",
        "dataset.head()"
      ]
    },
    {
      "cell_type": "code",
      "execution_count": null,
      "metadata": {
        "execution": {
          "iopub.execute_input": "2021-04-27T06:20:47.618812Z",
          "iopub.status.busy": "2021-04-27T06:20:47.617894Z",
          "iopub.status.idle": "2021-04-27T06:20:47.639327Z",
          "shell.execute_reply": "2021-04-27T06:20:47.638108Z"
        },
        "papermill": {
          "duration": 0.052673,
          "end_time": "2021-04-27T06:20:47.639562",
          "exception": false,
          "start_time": "2021-04-27T06:20:47.586889",
          "status": "completed"
        },
        "tags": [],
        "id": "8-Zv3Mgse08L",
        "outputId": "d0a147b6-5bf3-47d5-92bd-519ee1dea716"
      },
      "outputs": [
        {
          "name": "stdout",
          "output_type": "stream",
          "text": [
            "<class 'pandas.core.frame.DataFrame'>\n",
            "RangeIndex: 30 entries, 0 to 29\n",
            "Data columns (total 2 columns):\n",
            " #   Column           Non-Null Count  Dtype  \n",
            "---  ------           --------------  -----  \n",
            " 0   YearsExperience  30 non-null     float64\n",
            " 1   Salary           30 non-null     float64\n",
            "dtypes: float64(2)\n",
            "memory usage: 608.0 bytes\n"
          ]
        }
      ],
      "source": [
        "# To see information of dataset\n",
        "dataset.info()"
      ]
    },
    {
      "cell_type": "code",
      "execution_count": null,
      "metadata": {
        "execution": {
          "iopub.execute_input": "2021-04-27T06:20:47.757504Z",
          "iopub.status.busy": "2021-04-27T06:20:47.756847Z",
          "iopub.status.idle": "2021-04-27T06:20:47.772958Z",
          "shell.execute_reply": "2021-04-27T06:20:47.773432Z"
        },
        "papermill": {
          "duration": 0.048135,
          "end_time": "2021-04-27T06:20:47.773608",
          "exception": false,
          "start_time": "2021-04-27T06:20:47.725473",
          "status": "completed"
        },
        "tags": [],
        "id": "HQ5Ls8NGe08N",
        "outputId": "2d4f2f55-00c8-4ef6-b4b4-ce7d9f2947b7"
      },
      "outputs": [
        {
          "data": {
            "text/html": [
              "<div>\n",
              "<style scoped>\n",
              "    .dataframe tbody tr th:only-of-type {\n",
              "        vertical-align: middle;\n",
              "    }\n",
              "\n",
              "    .dataframe tbody tr th {\n",
              "        vertical-align: top;\n",
              "    }\n",
              "\n",
              "    .dataframe thead th {\n",
              "        text-align: right;\n",
              "    }\n",
              "</style>\n",
              "<table border=\"1\" class=\"dataframe\">\n",
              "  <thead>\n",
              "    <tr style=\"text-align: right;\">\n",
              "      <th></th>\n",
              "      <th>YearsExperience</th>\n",
              "      <th>Salary</th>\n",
              "    </tr>\n",
              "  </thead>\n",
              "  <tbody>\n",
              "    <tr>\n",
              "      <th>count</th>\n",
              "      <td>30.000000</td>\n",
              "      <td>30.000000</td>\n",
              "    </tr>\n",
              "    <tr>\n",
              "      <th>mean</th>\n",
              "      <td>5.313333</td>\n",
              "      <td>76003.000000</td>\n",
              "    </tr>\n",
              "    <tr>\n",
              "      <th>std</th>\n",
              "      <td>2.837888</td>\n",
              "      <td>27414.429785</td>\n",
              "    </tr>\n",
              "    <tr>\n",
              "      <th>min</th>\n",
              "      <td>1.100000</td>\n",
              "      <td>37731.000000</td>\n",
              "    </tr>\n",
              "    <tr>\n",
              "      <th>25%</th>\n",
              "      <td>3.200000</td>\n",
              "      <td>56720.750000</td>\n",
              "    </tr>\n",
              "    <tr>\n",
              "      <th>50%</th>\n",
              "      <td>4.700000</td>\n",
              "      <td>65237.000000</td>\n",
              "    </tr>\n",
              "    <tr>\n",
              "      <th>75%</th>\n",
              "      <td>7.700000</td>\n",
              "      <td>100544.750000</td>\n",
              "    </tr>\n",
              "    <tr>\n",
              "      <th>max</th>\n",
              "      <td>10.500000</td>\n",
              "      <td>122391.000000</td>\n",
              "    </tr>\n",
              "  </tbody>\n",
              "</table>\n",
              "</div>"
            ],
            "text/plain": [
              "       YearsExperience         Salary\n",
              "count        30.000000      30.000000\n",
              "mean          5.313333   76003.000000\n",
              "std           2.837888   27414.429785\n",
              "min           1.100000   37731.000000\n",
              "25%           3.200000   56720.750000\n",
              "50%           4.700000   65237.000000\n",
              "75%           7.700000  100544.750000\n",
              "max          10.500000  122391.000000"
            ]
          },
          "execution_count": 6,
          "metadata": {},
          "output_type": "execute_result"
        }
      ],
      "source": [
        "#Statistical Analysis\n",
        "dataset.describe()"
      ]
    },
    {
      "cell_type": "code",
      "execution_count": null,
      "metadata": {
        "execution": {
          "iopub.execute_input": "2021-04-27T06:20:47.896684Z",
          "iopub.status.busy": "2021-04-27T06:20:47.895998Z",
          "iopub.status.idle": "2021-04-27T06:20:48.884870Z",
          "shell.execute_reply": "2021-04-27T06:20:48.884215Z"
        },
        "papermill": {
          "duration": 1.022922,
          "end_time": "2021-04-27T06:20:48.885012",
          "exception": false,
          "start_time": "2021-04-27T06:20:47.862090",
          "status": "completed"
        },
        "tags": [],
        "id": "9D07YwD9e08O",
        "outputId": "da635261-b51e-43b6-c0af-3f4faedecaad"
      },
      "outputs": [
        {
          "data": {
            "text/plain": [
              "<seaborn.axisgrid.PairGrid at 0x7f8609ea1a10>"
            ]
          },
          "execution_count": 7,
          "metadata": {},
          "output_type": "execute_result"
        },
        {
          "data": {
            "image/png": "[encoded data removed]",
            "text/plain": [
              "<Figure size 360x360 with 6 Axes>"
            ]
          },
          "metadata": {
            "needs_background": "light"
          },
          "output_type": "display_data"
        }
      ],
      "source": [
        "#Relationship of dataset\n",
        "sns.pairplot(dataset)"
      ]
    },
    {
      "cell_type": "code",
      "execution_count": null,
      "metadata": {
        "execution": {
          "iopub.execute_input": "2021-04-27T06:20:49.016061Z",
          "iopub.status.busy": "2021-04-27T06:20:49.015131Z",
          "iopub.status.idle": "2021-04-27T06:20:49.018786Z",
          "shell.execute_reply": "2021-04-27T06:20:49.018147Z"
        },
        "papermill": {
          "duration": 0.042137,
          "end_time": "2021-04-27T06:20:49.019026",
          "exception": false,
          "start_time": "2021-04-27T06:20:48.976889",
          "status": "completed"
        },
        "tags": [],
        "id": "7kJjDRpze08Q"
      },
      "outputs": [],
      "source": [
        "#Assiging values in X & Y\n",
        "X = dataset.iloc[:, :-1].values\n",
        "y = dataset.iloc[:, -1].values"
      ]
    },
    {
      "cell_type": "code",
      "execution_count": null,
      "metadata": {
        "execution": {
          "iopub.execute_input": "2021-04-27T06:20:49.087669Z",
          "iopub.status.busy": "2021-04-27T06:20:49.086175Z",
          "iopub.status.idle": "2021-04-27T06:20:49.090891Z",
          "shell.execute_reply": "2021-04-27T06:20:49.091424Z"
        },
        "papermill": {
          "duration": 0.041616,
          "end_time": "2021-04-27T06:20:49.091603",
          "exception": false,
          "start_time": "2021-04-27T06:20:49.049987",
          "status": "completed"
        },
        "tags": [],
        "id": "6LcIKZ1Me08Q",
        "outputId": "d48aa224-0812-4592-8f9f-8437196f4352"
      },
      "outputs": [
        {
          "name": "stdout",
          "output_type": "stream",
          "text": [
            "[[ 1.1]\n",
            " [ 1.3]\n",
            " [ 1.5]\n",
            " [ 2. ]\n",
            " [ 2.2]\n",
            " [ 2.9]\n",
            " [ 3. ]\n",
            " [ 3.2]\n",
            " [ 3.2]\n",
            " [ 3.7]\n",
            " [ 3.9]\n",
            " [ 4. ]\n",
            " [ 4. ]\n",
            " [ 4.1]\n",
            " [ 4.5]\n",
            " [ 4.9]\n",
            " [ 5.1]\n",
            " [ 5.3]\n",
            " [ 5.9]\n",
            " [ 6. ]\n",
            " [ 6.8]\n",
            " [ 7.1]\n",
            " [ 7.9]\n",
            " [ 8.2]\n",
            " [ 8.7]\n",
            " [ 9. ]\n",
            " [ 9.5]\n",
            " [ 9.6]\n",
            " [10.3]\n",
            " [10.5]]\n"
          ]
        }
      ],
      "source": [
        "print(X)"
      ]
    },
    {
      "cell_type": "code",
      "execution_count": null,
      "metadata": {
        "execution": {
          "iopub.execute_input": "2021-04-27T06:20:49.161424Z",
          "iopub.status.busy": "2021-04-27T06:20:49.160582Z",
          "iopub.status.idle": "2021-04-27T06:20:49.164422Z",
          "shell.execute_reply": "2021-04-27T06:20:49.163732Z"
        },
        "papermill": {
          "duration": 0.041804,
          "end_time": "2021-04-27T06:20:49.164580",
          "exception": false,
          "start_time": "2021-04-27T06:20:49.122776",
          "status": "completed"
        },
        "tags": [],
        "id": "SQSyFj2se08R",
        "outputId": "6db8417c-746e-42fc-9c28-f6d514250782"
      },
      "outputs": [
        {
          "name": "stdout",
          "output_type": "stream",
          "text": [
            "[ 39343.  46205.  37731.  43525.  39891.  56642.  60150.  54445.  64445.\n",
            "  57189.  63218.  55794.  56957.  57081.  61111.  67938.  66029.  83088.\n",
            "  81363.  93940.  91738.  98273. 101302. 113812. 109431. 105582. 116969.\n",
            " 112635. 122391. 121872.]\n"
          ]
        }
      ],
      "source": [
        "print(y)"
      ]
    },
    {
      "cell_type": "code",
      "execution_count": null,
      "metadata": {
        "execution": {
          "iopub.execute_input": "2021-04-27T06:20:49.296713Z",
          "iopub.status.busy": "2021-04-27T06:20:49.296038Z",
          "iopub.status.idle": "2021-04-27T06:20:49.545006Z",
          "shell.execute_reply": "2021-04-27T06:20:49.544436Z"
        },
        "papermill": {
          "duration": 0.285822,
          "end_time": "2021-04-27T06:20:49.545168",
          "exception": false,
          "start_time": "2021-04-27T06:20:49.259346",
          "status": "completed"
        },
        "tags": [],
        "id": "MO6HrSZae08S"
      },
      "outputs": [],
      "source": [
        "#Splitting testdata into X_train,X_test,y_train,y_test\n",
        "from sklearn.model_selection import train_test_split\n",
        "X_train,X_test,y_train,y_test = train_test_split(X,y,test_size=.33,random_state=42)"
      ]
    },
    {
      "cell_type": "markdown",
      "metadata": {
        "papermill": {
          "duration": 0.031588,
          "end_time": "2021-04-27T06:20:49.608438",
          "exception": false,
          "start_time": "2021-04-27T06:20:49.576850",
          "status": "completed"
        },
        "tags": [],
        "id": "clXHKVz3e08T"
      },
      "source": [
        "Now the data set will be divided into X_train,X_test,y_train,y_test based on the test_size we have provided as input.\n",
        "\n",
        "Here dataset has 30 observations and test_size is taken as 33% of the total observation. This indicates the test set should have 33% * 30 =9.9 ~10 observations and the training set should have 20 observations. Random_state is assigned to some value so that the dataset is split randomly."
      ]
    },
    {
      "cell_type": "code",
      "execution_count": null,
      "metadata": {
        "execution": {
          "iopub.execute_input": "2021-04-27T06:20:49.679389Z",
          "iopub.status.busy": "2021-04-27T06:20:49.678489Z",
          "iopub.status.idle": "2021-04-27T06:20:49.683442Z",
          "shell.execute_reply": "2021-04-27T06:20:49.682676Z"
        },
        "papermill": {
          "duration": 0.042815,
          "end_time": "2021-04-27T06:20:49.683653",
          "exception": false,
          "start_time": "2021-04-27T06:20:49.640838",
          "status": "completed"
        },
        "tags": [],
        "id": "RGG5zouYe08T",
        "outputId": "f7fda169-49fd-41c8-ce4f-8ca0866287f4"
      },
      "outputs": [
        {
          "name": "stdout",
          "output_type": "stream",
          "text": [
            "[[ 2.2]\n",
            " [ 5.1]\n",
            " [ 2.9]\n",
            " [ 4.1]\n",
            " [ 4. ]\n",
            " [ 7.9]\n",
            " [ 1.3]\n",
            " [ 1.5]\n",
            " [ 9. ]\n",
            " [ 2. ]\n",
            " [ 7.1]\n",
            " [ 9.5]\n",
            " [ 5.9]\n",
            " [10.5]\n",
            " [ 6.8]\n",
            " [ 3.2]\n",
            " [ 3.9]\n",
            " [ 4.5]\n",
            " [ 6. ]\n",
            " [ 3. ]]\n"
          ]
        }
      ],
      "source": [
        "print(X_train)"
      ]
    },
    {
      "cell_type": "code",
      "execution_count": null,
      "metadata": {
        "execution": {
          "iopub.execute_input": "2021-04-27T06:20:49.756698Z",
          "iopub.status.busy": "2021-04-27T06:20:49.755692Z",
          "iopub.status.idle": "2021-04-27T06:20:49.759747Z",
          "shell.execute_reply": "2021-04-27T06:20:49.759090Z"
        },
        "papermill": {
          "duration": 0.042363,
          "end_time": "2021-04-27T06:20:49.759908",
          "exception": false,
          "start_time": "2021-04-27T06:20:49.717545",
          "status": "completed"
        },
        "tags": [],
        "id": "lFepZ0p6e08U",
        "outputId": "b3bcdffa-8ef2-41de-941d-5418d7ec4313"
      },
      "outputs": [
        {
          "name": "stdout",
          "output_type": "stream",
          "text": [
            "[[ 9.6]\n",
            " [ 4.9]\n",
            " [ 8.2]\n",
            " [ 5.3]\n",
            " [ 3.2]\n",
            " [ 3.7]\n",
            " [10.3]\n",
            " [ 8.7]\n",
            " [ 4. ]\n",
            " [ 1.1]]\n"
          ]
        }
      ],
      "source": [
        "print(X_test)"
      ]
    },
    {
      "cell_type": "code",
      "execution_count": null,
      "metadata": {
        "execution": {
          "iopub.execute_input": "2021-04-27T06:20:49.832302Z",
          "iopub.status.busy": "2021-04-27T06:20:49.831491Z",
          "iopub.status.idle": "2021-04-27T06:20:49.835646Z",
          "shell.execute_reply": "2021-04-27T06:20:49.835004Z"
        },
        "papermill": {
          "duration": 0.042461,
          "end_time": "2021-04-27T06:20:49.835788",
          "exception": false,
          "start_time": "2021-04-27T06:20:49.793327",
          "status": "completed"
        },
        "tags": [],
        "id": "6v-vwSaRe08U",
        "outputId": "93d58f9a-6e00-42a0-9d02-ce486786c9ff"
      },
      "outputs": [
        {
          "name": "stdout",
          "output_type": "stream",
          "text": [
            "[ 39891.  66029.  56642.  57081.  55794. 101302.  46205.  37731. 105582.\n",
            "  43525.  98273. 116969.  81363. 121872.  91738.  54445.  63218.  61111.\n",
            "  93940.  60150.]\n"
          ]
        }
      ],
      "source": [
        "print(y_train)"
      ]
    },
    {
      "cell_type": "code",
      "execution_count": null,
      "metadata": {
        "execution": {
          "iopub.execute_input": "2021-04-27T06:20:49.910378Z",
          "iopub.status.busy": "2021-04-27T06:20:49.909525Z",
          "iopub.status.idle": "2021-04-27T06:20:49.913888Z",
          "shell.execute_reply": "2021-04-27T06:20:49.912976Z"
        },
        "papermill": {
          "duration": 0.042734,
          "end_time": "2021-04-27T06:20:49.914090",
          "exception": false,
          "start_time": "2021-04-27T06:20:49.871356",
          "status": "completed"
        },
        "tags": [],
        "id": "KrfV_n6Se08V",
        "outputId": "f9e545af-b737-4517-d141-27ea8e8495a2"
      },
      "outputs": [
        {
          "name": "stdout",
          "output_type": "stream",
          "text": [
            "[112635.  67938. 113812.  83088.  64445.  57189. 122391. 109431.  56957.\n",
            "  39343.]\n"
          ]
        }
      ],
      "source": [
        "print (y_test)"
      ]
    },
    {
      "cell_type": "markdown",
      "metadata": {
        "papermill": {
          "duration": 0.033764,
          "end_time": "2021-04-27T06:20:49.982221",
          "exception": false,
          "start_time": "2021-04-27T06:20:49.948457",
          "status": "completed"
        },
        "tags": [],
        "id": "nq9w8gbde08W"
      },
      "source": [
        "random_state is provided as input to divide the test set and the training set randomly. If we use random_state as 47, then the dataset will be divided in a different random way."
      ]
    },
    {
      "cell_type": "markdown",
      "metadata": {
        "papermill": {
          "duration": 0.033796,
          "end_time": "2021-04-27T06:20:50.051368",
          "exception": false,
          "start_time": "2021-04-27T06:20:50.017572",
          "status": "completed"
        },
        "tags": [],
        "id": "mEsWQmKSe08W"
      },
      "source": [
        "To perform linear regression, LinearRegression class is imported from the module linear_model of the Scikit-learn library. The simple regression model built will be an instance of class LinearRegression."
      ]
    },
    {
      "cell_type": "code",
      "execution_count": null,
      "metadata": {
        "execution": {
          "iopub.execute_input": "2021-04-27T06:20:50.124143Z",
          "iopub.status.busy": "2021-04-27T06:20:50.123454Z",
          "iopub.status.idle": "2021-04-27T06:20:50.254568Z",
          "shell.execute_reply": "2021-04-27T06:20:50.255163Z"
        },
        "papermill": {
          "duration": 0.170513,
          "end_time": "2021-04-27T06:20:50.255379",
          "exception": false,
          "start_time": "2021-04-27T06:20:50.084866",
          "status": "completed"
        },
        "tags": [],
        "id": "J4e4hLQRe08W",
        "outputId": "13d31ce4-b00b-45c6-ce3f-bd6ebf4d158a"
      },
      "outputs": [
        {
          "data": {
            "text/plain": [
              "LinearRegression()"
            ]
          },
          "execution_count": 16,
          "metadata": {},
          "output_type": "execute_result"
        }
      ],
      "source": [
        "from sklearn.linear_model import LinearRegression\n",
        "lr = LinearRegression()\n",
        "lr.fit(X_train, y_train)"
      ]
    },
    {
      "cell_type": "raw",
      "metadata": {
        "papermill": {
          "duration": 0.033897,
          "end_time": "2021-04-27T06:20:50.323225",
          "exception": false,
          "start_time": "2021-04-27T06:20:50.289328",
          "status": "completed"
        },
        "tags": [],
        "id": "bc50jX8oe08W"
      },
      "source": [
        "There is no need to assign lr.fit(X_train, y_train) to a variable as the fitting is done on the instance itself. Also here we will be only fitting the training set because the test set we will be used to validate the model.\n",
        "Our test set has 10 observations and for each observation, we have to predict the salary. So the input for predict method will be the year of experience of the test set and we have to compare the predicted salary with its real salary."
      ]
    },
    {
      "cell_type": "code",
      "execution_count": null,
      "metadata": {
        "execution": {
          "iopub.execute_input": "2021-04-27T06:20:50.397502Z",
          "iopub.status.busy": "2021-04-27T06:20:50.396824Z",
          "iopub.status.idle": "2021-04-27T06:20:50.400801Z",
          "shell.execute_reply": "2021-04-27T06:20:50.400153Z"
        },
        "papermill": {
          "duration": 0.043991,
          "end_time": "2021-04-27T06:20:50.400956",
          "exception": false,
          "start_time": "2021-04-27T06:20:50.356965",
          "status": "completed"
        },
        "tags": [],
        "id": "JUn6wmcDe08X"
      },
      "outputs": [],
      "source": [
        "#Prediciting Y from Linear regression Model\n",
        "y_pred = lr.predict(X_test)"
      ]
    },
    {
      "cell_type": "markdown",
      "metadata": {
        "papermill": {
          "duration": 0.034028,
          "end_time": "2021-04-27T06:20:50.469185",
          "exception": false,
          "start_time": "2021-04-27T06:20:50.435157",
          "status": "completed"
        },
        "tags": [],
        "id": "c9yutlipe08X"
      },
      "source": [
        "Traning data is visualized with X_train and y_train, the red mark indicates the data point and the blue line indicates the regression line or best fit line."
      ]
    },
    {
      "cell_type": "code",
      "execution_count": null,
      "metadata": {
        "execution": {
          "iopub.execute_input": "2021-04-27T06:20:50.562111Z",
          "iopub.status.busy": "2021-04-27T06:20:50.561405Z",
          "iopub.status.idle": "2021-04-27T06:20:50.691594Z",
          "shell.execute_reply": "2021-04-27T06:20:50.691015Z"
        },
        "papermill": {
          "duration": 0.187338,
          "end_time": "2021-04-27T06:20:50.691752",
          "exception": false,
          "start_time": "2021-04-27T06:20:50.504414",
          "status": "completed"
        },
        "tags": [],
        "id": "B1RAg7hwe08Y",
        "outputId": "00b9370c-cb62-4e90-ad4a-6a9cc8747274"
      },
      "outputs": [
        {
          "data": {
            "image/png": "[encoded data removed]",
            "text/plain": [
              "<Figure size 432x288 with 1 Axes>"
            ]
          },
          "metadata": {
            "needs_background": "light"
          },
          "output_type": "display_data"
        }
      ],
      "source": [
        "#Ploting Graph\n",
        "plt.scatter(X_train,y_train,color='red',marker='X')\n",
        "plt.plot(X_train,lr.predict(X_train),color='blue')\n",
        "plt.title('Training Set')\n",
        "plt.xlabel('Years of Experience')\n",
        "plt.ylabel('Salary')\n",
        "plt.show()"
      ]
    },
    {
      "cell_type": "markdown",
      "metadata": {
        "papermill": {
          "duration": 0.034858,
          "end_time": "2021-04-27T06:20:50.762833",
          "exception": false,
          "start_time": "2021-04-27T06:20:50.727975",
          "status": "completed"
        },
        "tags": [],
        "id": "13axvj6de08Y"
      },
      "source": [
        "The test set is visualized with the black mark which and here we can datapoint are close to the regression line. The regression model is trained with training set data and has to validate the model with the test set."
      ]
    },
    {
      "cell_type": "code",
      "execution_count": null,
      "metadata": {
        "execution": {
          "iopub.execute_input": "2021-04-27T06:20:50.861279Z",
          "iopub.status.busy": "2021-04-27T06:20:50.860486Z",
          "iopub.status.idle": "2021-04-27T06:20:50.986950Z",
          "shell.execute_reply": "2021-04-27T06:20:50.987474Z"
        },
        "papermill": {
          "duration": 0.190003,
          "end_time": "2021-04-27T06:20:50.987657",
          "exception": false,
          "start_time": "2021-04-27T06:20:50.797654",
          "status": "completed"
        },
        "tags": [],
        "id": "wysSfqK4e08Y",
        "outputId": "efcd32e7-e8ef-46db-d4cd-d81f8db1b8d9"
      },
      "outputs": [
        {
          "data": {
            "image/png": "[encoded data removed]",
            "text/plain": [
              "<Figure size 432x288 with 1 Axes>"
            ]
          },
          "metadata": {
            "needs_background": "light"
          },
          "output_type": "display_data"
        }
      ],
      "source": [
        "plt.scatter(X_test,y_test,color='black',marker='X')\n",
        "plt.plot(X_train,lr.predict(X_train),color='blue')\n",
        "plt.title('Test Set')\n",
        "plt.xlabel('Years of Experience')\n",
        "plt.ylabel('Salary')\n",
        "plt.show()\n",
        "         "
      ]
    },
    {
      "cell_type": "markdown",
      "metadata": {
        "papermill": {
          "duration": 0.036757,
          "end_time": "2021-04-27T06:20:51.061731",
          "exception": false,
          "start_time": "2021-04-27T06:20:51.024974",
          "status": "completed"
        },
        "tags": [],
        "id": "YLuwhRjAe08Z"
      },
      "source": [
        "To find the linear regression equation, coefficient and intercept are to be calculated which can be done with the below equation."
      ]
    },
    {
      "cell_type": "code",
      "execution_count": null,
      "metadata": {
        "execution": {
          "iopub.execute_input": "2021-04-27T06:20:51.138814Z",
          "iopub.status.busy": "2021-04-27T06:20:51.138111Z",
          "iopub.status.idle": "2021-04-27T06:20:51.142103Z",
          "shell.execute_reply": "2021-04-27T06:20:51.142663Z"
        },
        "papermill": {
          "duration": 0.043772,
          "end_time": "2021-04-27T06:20:51.142838",
          "exception": false,
          "start_time": "2021-04-27T06:20:51.099066",
          "status": "completed"
        },
        "tags": [],
        "id": "5yFxmWNie08Z"
      },
      "outputs": [],
      "source": [
        "#Assigning Coefficient (slope) to b\n",
        "b = lr.coef_"
      ]
    },
    {
      "cell_type": "code",
      "execution_count": null,
      "metadata": {
        "execution": {
          "iopub.execute_input": "2021-04-27T06:20:51.218738Z",
          "iopub.status.busy": "2021-04-27T06:20:51.217909Z",
          "iopub.status.idle": "2021-04-27T06:20:51.224074Z",
          "shell.execute_reply": "2021-04-27T06:20:51.224620Z"
        },
        "papermill": {
          "duration": 0.045994,
          "end_time": "2021-04-27T06:20:51.224805",
          "exception": false,
          "start_time": "2021-04-27T06:20:51.178811",
          "status": "completed"
        },
        "tags": [],
        "id": "sXFCbILee08Z",
        "outputId": "b098d96b-b6af-4c17-e4d3-3fd6b46f0745"
      },
      "outputs": [
        {
          "name": "stdout",
          "output_type": "stream",
          "text": [
            "Coefficient  : [9426.03876907]\n"
          ]
        }
      ],
      "source": [
        "print(\"Coefficient  :\" , b)"
      ]
    },
    {
      "cell_type": "code",
      "execution_count": null,
      "metadata": {
        "execution": {
          "iopub.execute_input": "2021-04-27T06:20:51.304480Z",
          "iopub.status.busy": "2021-04-27T06:20:51.303544Z",
          "iopub.status.idle": "2021-04-27T06:20:51.308732Z",
          "shell.execute_reply": "2021-04-27T06:20:51.307887Z"
        },
        "papermill": {
          "duration": 0.045766,
          "end_time": "2021-04-27T06:20:51.308891",
          "exception": false,
          "start_time": "2021-04-27T06:20:51.263125",
          "status": "completed"
        },
        "tags": [],
        "id": "6oDFHfH-e08a"
      },
      "outputs": [],
      "source": [
        "#Assigning Y-intercept to a\n",
        "a = lr.intercept_"
      ]
    },
    {
      "cell_type": "code",
      "execution_count": null,
      "metadata": {
        "execution": {
          "iopub.execute_input": "2021-04-27T06:20:51.388685Z",
          "iopub.status.busy": "2021-04-27T06:20:51.387796Z",
          "iopub.status.idle": "2021-04-27T06:20:51.391044Z",
          "shell.execute_reply": "2021-04-27T06:20:51.391578Z"
        },
        "papermill": {
          "duration": 0.045963,
          "end_time": "2021-04-27T06:20:51.391755",
          "exception": false,
          "start_time": "2021-04-27T06:20:51.345792",
          "status": "completed"
        },
        "tags": [],
        "id": "GRtN-hRfe08a",
        "outputId": "c16065c2-8403-4ae9-9e3d-d8802398a5a5"
      },
      "outputs": [
        {
          "name": "stdout",
          "output_type": "stream",
          "text": [
            "Intercept :  25324.33537924433\n"
          ]
        }
      ],
      "source": [
        "print(\"Intercept : \", a)"
      ]
    },
    {
      "cell_type": "markdown",
      "metadata": {
        "papermill": {
          "duration": 0.036423,
          "end_time": "2021-04-27T06:20:51.465215",
          "exception": false,
          "start_time": "2021-04-27T06:20:51.428792",
          "status": "completed"
        },
        "tags": [],
        "id": "h_RCoHJge08a"
      },
      "source": [
        "For this model, the linear regression equation will be:\n",
        "\n",
        "Predicted Salary=9426.03876907×(years of experience)+25324.33537924433\n",
        "\n",
        "For Years of Experience 11, predicted salary can be calculated as:\n",
        "\n",
        "9426.03876907×(11)+25324.33537924433 = 129010.76183907\n",
        "\n",
        "y(11) can be predicted with the model as below.\n"
      ]
    },
    {
      "cell_type": "code",
      "execution_count": null,
      "metadata": {
        "execution": {
          "iopub.execute_input": "2021-04-27T06:20:51.542948Z",
          "iopub.status.busy": "2021-04-27T06:20:51.541980Z",
          "iopub.status.idle": "2021-04-27T06:20:51.548730Z",
          "shell.execute_reply": "2021-04-27T06:20:51.548170Z"
        },
        "papermill": {
          "duration": 0.047094,
          "end_time": "2021-04-27T06:20:51.548871",
          "exception": false,
          "start_time": "2021-04-27T06:20:51.501777",
          "status": "completed"
        },
        "tags": [],
        "id": "rfgLEfL2e08b",
        "outputId": "592f7f2d-3fdf-4d7a-a346-01dec6f6ce3d"
      },
      "outputs": [
        {
          "name": "stdout",
          "output_type": "stream",
          "text": [
            "[129010.76183907]\n"
          ]
        }
      ],
      "source": [
        "# y_pred=9426.03876907×(years of experience)+25324.33537924433\n",
        "#y_predict(11)\n",
        "print(lr.predict([[11]]))"
      ]
    },
    {
      "cell_type": "markdown",
      "metadata": {
        "papermill": {
          "duration": 0.038102,
          "end_time": "2021-04-27T06:20:51.624398",
          "exception": false,
          "start_time": "2021-04-27T06:20:51.586296",
          "status": "completed"
        },
        "tags": [],
        "id": "tDFqWcNhe08b"
      },
      "source": [
        "Mean Squared Error (MSE) is one of the regression evaluation metrics. It is calculated as the average squared difference between the predicted values and the real value. The mathematical equation for MSE is as:\n",
        "![image.png](attachment:image.png)"
      ]
    },
    {
      "cell_type": "markdown",
      "metadata": {
        "papermill": {
          "duration": 0.037873,
          "end_time": "2021-04-27T06:20:51.699771",
          "exception": false,
          "start_time": "2021-04-27T06:20:51.661898",
          "status": "completed"
        },
        "tags": [],
        "id": "vVytc532e08c"
      },
      "source": [
        "MSE can be calculated from the metrics module of Scikit-learn library."
      ]
    },
    {
      "cell_type": "code",
      "execution_count": null,
      "metadata": {
        "execution": {
          "iopub.execute_input": "2021-04-27T06:20:51.780285Z",
          "iopub.status.busy": "2021-04-27T06:20:51.779401Z",
          "iopub.status.idle": "2021-04-27T06:20:51.783488Z",
          "shell.execute_reply": "2021-04-27T06:20:51.782906Z"
        },
        "papermill": {
          "duration": 0.046176,
          "end_time": "2021-04-27T06:20:51.783642",
          "exception": false,
          "start_time": "2021-04-27T06:20:51.737466",
          "status": "completed"
        },
        "tags": [],
        "id": "etEvGUDke08c"
      },
      "outputs": [],
      "source": [
        "#Mean Squared Error (MSE)\n",
        "from sklearn import metrics"
      ]
    },
    {
      "cell_type": "code",
      "execution_count": null,
      "metadata": {
        "execution": {
          "iopub.execute_input": "2021-04-27T06:20:51.869644Z",
          "iopub.status.busy": "2021-04-27T06:20:51.868961Z",
          "iopub.status.idle": "2021-04-27T06:20:51.872506Z",
          "shell.execute_reply": "2021-04-27T06:20:51.872986Z"
        },
        "papermill": {
          "duration": 0.050974,
          "end_time": "2021-04-27T06:20:51.873167",
          "exception": false,
          "start_time": "2021-04-27T06:20:51.822193",
          "status": "completed"
        },
        "tags": [],
        "id": "-FyJROdke08c",
        "outputId": "1a95f69c-473e-45a9-deb6-92d6fed30552"
      },
      "outputs": [
        {
          "name": "stdout",
          "output_type": "stream",
          "text": [
            "Mean Squared Error (MSE)  :  35301898.887134895\n"
          ]
        }
      ],
      "source": [
        "print('Mean Squared Error (MSE)  : ', metrics.mean_squared_error(y_test, y_pred))"
      ]
    },
    {
      "cell_type": "code",
      "execution_count": null,
      "metadata": {
        "execution": {
          "iopub.execute_input": "2021-04-27T06:20:51.954771Z",
          "iopub.status.busy": "2021-04-27T06:20:51.953837Z",
          "iopub.status.idle": "2021-04-27T06:20:52.814836Z",
          "shell.execute_reply": "2021-04-27T06:20:52.814020Z"
        },
        "papermill": {
          "duration": 0.904013,
          "end_time": "2021-04-27T06:20:52.815019",
          "exception": false,
          "start_time": "2021-04-27T06:20:51.911006",
          "status": "completed"
        },
        "tags": [],
        "id": "sALzTndhe08c"
      },
      "outputs": [],
      "source": [
        "import statsmodels.api as sm"
      ]
    },
    {
      "cell_type": "markdown",
      "metadata": {
        "papermill": {
          "duration": 0.040916,
          "end_time": "2021-04-27T06:20:52.898462",
          "exception": false,
          "start_time": "2021-04-27T06:20:52.857546",
          "status": "completed"
        },
        "tags": [],
        "id": "OK8bi-pke08d"
      },
      "source": [
        "Ordinary Least-Squares (OLS) estimator module can be called from statsmodels.api to get regression summary."
      ]
    },
    {
      "cell_type": "code",
      "execution_count": null,
      "metadata": {
        "execution": {
          "iopub.execute_input": "2021-04-27T06:20:52.998897Z",
          "iopub.status.busy": "2021-04-27T06:20:52.980470Z",
          "iopub.status.idle": "2021-04-27T06:20:53.003328Z",
          "shell.execute_reply": "2021-04-27T06:20:53.002633Z"
        },
        "papermill": {
          "duration": 0.067106,
          "end_time": "2021-04-27T06:20:53.003481",
          "exception": false,
          "start_time": "2021-04-27T06:20:52.936375",
          "status": "completed"
        },
        "tags": [],
        "id": "HIcEU4xJe08d",
        "outputId": "148679e0-5e73-4080-b2e4-2a1b16adb844"
      },
      "outputs": [
        {
          "data": {
            "text/html": [
              "<table class=\"simpletable\">\n",
              "<caption>OLS Regression Results</caption>\n",
              "<tr>\n",
              "  <th>Dep. Variable:</th>            <td>y</td>        <th>  R-squared:         </th> <td>   0.955</td>\n",
              "</tr>\n",
              "<tr>\n",
              "  <th>Model:</th>                   <td>OLS</td>       <th>  Adj. R-squared:    </th> <td>   0.952</td>\n",
              "</tr>\n",
              "<tr>\n",
              "  <th>Method:</th>             <td>Least Squares</td>  <th>  F-statistic:       </th> <td>   381.3</td>\n",
              "</tr>\n",
              "<tr>\n",
              "  <th>Date:</th>             <td>Tue, 27 Apr 2021</td> <th>  Prob (F-statistic):</th> <td>1.45e-13</td>\n",
              "</tr>\n",
              "<tr>\n",
              "  <th>Time:</th>                 <td>06:20:52</td>     <th>  Log-Likelihood:    </th> <td> -200.48</td>\n",
              "</tr>\n",
              "<tr>\n",
              "  <th>No. Observations:</th>      <td>    20</td>      <th>  AIC:               </th> <td>   405.0</td>\n",
              "</tr>\n",
              "<tr>\n",
              "  <th>Df Residuals:</th>          <td>    18</td>      <th>  BIC:               </th> <td>   406.9</td>\n",
              "</tr>\n",
              "<tr>\n",
              "  <th>Df Model:</th>              <td>     1</td>      <th>                     </th>     <td> </td>   \n",
              "</tr>\n",
              "<tr>\n",
              "  <th>Covariance Type:</th>      <td>nonrobust</td>    <th>                     </th>     <td> </td>   \n",
              "</tr>\n",
              "</table>\n",
              "<table class=\"simpletable\">\n",
              "<tr>\n",
              "    <td></td>       <th>coef</th>     <th>std err</th>      <th>t</th>      <th>P>|t|</th>  <th>[0.025</th>    <th>0.975]</th>  \n",
              "</tr>\n",
              "<tr>\n",
              "  <th>const</th> <td> 2.532e+04</td> <td> 2743.538</td> <td>    9.231</td> <td> 0.000</td> <td> 1.96e+04</td> <td> 3.11e+04</td>\n",
              "</tr>\n",
              "<tr>\n",
              "  <th>x1</th>    <td> 9426.0388</td> <td>  482.706</td> <td>   19.527</td> <td> 0.000</td> <td> 8411.911</td> <td> 1.04e+04</td>\n",
              "</tr>\n",
              "</table>\n",
              "<table class=\"simpletable\">\n",
              "<tr>\n",
              "  <th>Omnibus:</th>       <td> 0.822</td> <th>  Durbin-Watson:     </th> <td>   1.772</td>\n",
              "</tr>\n",
              "<tr>\n",
              "  <th>Prob(Omnibus):</th> <td> 0.663</td> <th>  Jarque-Bera (JB):  </th> <td>   0.819</td>\n",
              "</tr>\n",
              "<tr>\n",
              "  <th>Skew:</th>          <td> 0.380</td> <th>  Prob(JB):          </th> <td>   0.664</td>\n",
              "</tr>\n",
              "<tr>\n",
              "  <th>Kurtosis:</th>      <td> 2.363</td> <th>  Cond. No.          </th> <td>    12.4</td>\n",
              "</tr>\n",
              "</table><br/><br/>Notes:<br/>[1] Standard Errors assume that the covariance matrix of the errors is correctly specified."
            ],
            "text/plain": [
              "<class 'statsmodels.iolib.summary.Summary'>\n",
              "\"\"\"\n",
              "                            OLS Regression Results                            \n",
              "==============================================================================\n",
              "Dep. Variable:                      y   R-squared:                       0.955\n",
              "Model:                            OLS   Adj. R-squared:                  0.952\n",
              "Method:                 Least Squares   F-statistic:                     381.3\n",
              "Date:                Tue, 27 Apr 2021   Prob (F-statistic):           1.45e-13\n",
              "Time:                        06:20:52   Log-Likelihood:                -200.48\n",
              "No. Observations:                  20   AIC:                             405.0\n",
              "Df Residuals:                      18   BIC:                             406.9\n",
              "Df Model:                           1                                         \n",
              "Covariance Type:            nonrobust                                         \n",
              "==============================================================================\n",
              "                 coef    std err          t      P>|t|      [0.025      0.975]\n",
              "------------------------------------------------------------------------------\n",
              "const       2.532e+04   2743.538      9.231      0.000    1.96e+04    3.11e+04\n",
              "x1          9426.0388    482.706     19.527      0.000    8411.911    1.04e+04\n",
              "==============================================================================\n",
              "Omnibus:                        0.822   Durbin-Watson:                   1.772\n",
              "Prob(Omnibus):                  0.663   Jarque-Bera (JB):                0.819\n",
              "Skew:                           0.380   Prob(JB):                        0.664\n",
              "Kurtosis:                       2.363   Cond. No.                         12.4\n",
              "==============================================================================\n",
              "\n",
              "Notes:\n",
              "[1] Standard Errors assume that the covariance matrix of the errors is correctly specified.\n",
              "\"\"\""
            ]
          },
          "execution_count": 28,
          "metadata": {},
          "output_type": "execute_result"
        }
      ],
      "source": [
        "X_stat = sm.add_constant(X_train)\n",
        "regsummary = sm.OLS(y_train, X_stat).fit()\n",
        "regsummary.summary()"
      ]
    },
    {
      "cell_type": "markdown",
      "metadata": {
        "papermill": {
          "duration": 0.040069,
          "end_time": "2021-04-27T06:20:53.082380",
          "exception": false,
          "start_time": "2021-04-27T06:20:53.042311",
          "status": "completed"
        },
        "tags": [],
        "id": "yrNRLbeEe08d"
      },
      "source": [
        "R-Square or Adj-R-Square value can be obtained as below."
      ]
    },
    {
      "cell_type": "code",
      "execution_count": null,
      "metadata": {
        "execution": {
          "iopub.execute_input": "2021-04-27T06:20:53.165920Z",
          "iopub.status.busy": "2021-04-27T06:20:53.165255Z",
          "iopub.status.idle": "2021-04-27T06:20:53.169592Z",
          "shell.execute_reply": "2021-04-27T06:20:53.168919Z"
        },
        "papermill": {
          "duration": 0.04813,
          "end_time": "2021-04-27T06:20:53.169749",
          "exception": false,
          "start_time": "2021-04-27T06:20:53.121619",
          "status": "completed"
        },
        "tags": [],
        "id": "zH24ajwae08d",
        "outputId": "7e32b58d-97b0-4647-88ec-a6732ea55b79"
      },
      "outputs": [
        {
          "name": "stdout",
          "output_type": "stream",
          "text": [
            "Adjusted R-Square :  0.9524194554302405\n",
            "R-Square :  0.9549236946181227\n"
          ]
        }
      ],
      "source": [
        "print(\"Adjusted R-Square : \",regsummary.rsquared_adj)\n",
        "print(\"R-Square : \",regsummary.rsquared)"
      ]
    },
    {
      "cell_type": "markdown",
      "metadata": {
        "papermill": {
          "duration": 0.040388,
          "end_time": "2021-04-27T06:20:53.249929",
          "exception": false,
          "start_time": "2021-04-27T06:20:53.209541",
          "status": "completed"
        },
        "tags": [],
        "id": "3XIzlUTFe08e"
      },
      "source": [
        "If only interested to find the R-Square value, r2_score can be imported from the metrics module of the Scikit-learn library."
      ]
    },
    {
      "cell_type": "code",
      "execution_count": null,
      "metadata": {
        "execution": {
          "iopub.execute_input": "2021-04-27T06:20:53.334381Z",
          "iopub.status.busy": "2021-04-27T06:20:53.333587Z",
          "iopub.status.idle": "2021-04-27T06:20:53.336886Z",
          "shell.execute_reply": "2021-04-27T06:20:53.337368Z"
        },
        "papermill": {
          "duration": 0.047337,
          "end_time": "2021-04-27T06:20:53.337560",
          "exception": false,
          "start_time": "2021-04-27T06:20:53.290223",
          "status": "completed"
        },
        "tags": [],
        "id": "FQaaWAkWe08e"
      },
      "outputs": [],
      "source": [
        "from sklearn.metrics import r2_score"
      ]
    },
    {
      "cell_type": "code",
      "execution_count": null,
      "metadata": {
        "execution": {
          "iopub.execute_input": "2021-04-27T06:20:53.424197Z",
          "iopub.status.busy": "2021-04-27T06:20:53.423216Z",
          "iopub.status.idle": "2021-04-27T06:20:53.427828Z",
          "shell.execute_reply": "2021-04-27T06:20:53.428317Z"
        },
        "papermill": {
          "duration": 0.051493,
          "end_time": "2021-04-27T06:20:53.428501",
          "exception": false,
          "start_time": "2021-04-27T06:20:53.377008",
          "status": "completed"
        },
        "tags": [],
        "id": "sV8QRiaUe08e",
        "outputId": "2d048852-c17e-4c28-b926-e993a717fe2d"
      },
      "outputs": [
        {
          "data": {
            "text/plain": [
              "0.9549236946181227"
            ]
          },
          "execution_count": 31,
          "metadata": {},
          "output_type": "execute_result"
        }
      ],
      "source": [
        "r2_score(y_train, lr.predict(X_train))"
      ]
    }
  ],
  "metadata": {
    "kernelspec": {
      "display_name": "Python 3",
      "language": "python",
      "name": "python3"
    },
    "language_info": {
      "codemirror_mode": {
        "name": "ipython",
        "version": 3
      },
      "file_extension": ".py",
      "mimetype": "text/x-python",
      "name": "python",
      "nbconvert_exporter": "python",
      "pygments_lexer": "ipython3",
      "version": "3.7.9"
    },
    "papermill": {
      "default_parameters": {},
      "duration": 14.279066,
      "end_time": "2021-04-27T06:20:54.180487",
      "environment_variables": {},
      "exception": null,
      "input_path": "__notebook__.ipynb",
      "output_path": "__notebook__.ipynb",
      "parameters": {},
      "start_time": "2021-04-27T06:20:39.901421",
      "version": "2.2.2"
    },
    "colab": {
      "name": "Simple Linear Regression - Salary vs Experience.ipynb",
      "provenance": [],
      "collapsed_sections": []
    }
  },
  "nbformat": 4,
  "nbformat_minor": 0
}